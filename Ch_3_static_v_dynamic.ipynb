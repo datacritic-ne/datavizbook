{
 "cells": [
  {
   "cell_type": "code",
   "execution_count": 1,
   "id": "92686cf7",
   "metadata": {},
   "outputs": [],
   "source": [
    "import numpy as np\n",
    "import pandas as pd\n",
    "import matplotlib.pyplot as plt\n",
    "import seaborn as sns"
   ]
  },
  {
   "cell_type": "code",
   "execution_count": 2,
   "id": "7f8c3b4d",
   "metadata": {},
   "outputs": [],
   "source": [
    "# Preparing the data\n",
    "\n",
    "url_co2 = 'https://raw.githubusercontent.com/TrainingbyPackt/Interactive-Data-Visualization-with-Python/master/datasets/co2.csv'\n",
    "co2 = pd.read_csv(url_co2)"
   ]
  },
  {
   "cell_type": "code",
   "execution_count": 3,
   "id": "a961a124",
   "metadata": {},
   "outputs": [],
   "source": [
    "url_gm = 'https://raw.githubusercontent.com/TrainingbyPackt/Interactive-Data-Visualization-with-Python/master/datasets/gapminder.csv'\n",
    "gm = pd.read_csv(url_gm)"
   ]
  },
  {
   "cell_type": "code",
   "execution_count": 4,
   "id": "0504db46",
   "metadata": {},
   "outputs": [],
   "source": [
    "df_gm = gm[['Country', 'region']].drop_duplicates()"
   ]
  },
  {
   "cell_type": "code",
   "execution_count": 5,
   "id": "5fbdd18f",
   "metadata": {},
   "outputs": [],
   "source": [
    "df_w_regions = pd.merge(co2, df_gm, left_on='country', right_on='Country', how='inner')"
   ]
  },
  {
   "cell_type": "code",
   "execution_count": 6,
   "id": "2546f5f0",
   "metadata": {},
   "outputs": [],
   "source": [
    "df_w_regions = df_w_regions.drop('Country', axis='columns')"
   ]
  },
  {
   "cell_type": "code",
   "execution_count": 7,
   "id": "bacfc7f0",
   "metadata": {},
   "outputs": [],
   "source": [
    "new_co2 = pd.melt(df_w_regions, id_vars=['country', 'region'])\n",
    "columns = ['country', 'region', 'year', 'co2']\n",
    "new_co2.columns = columns"
   ]
  },
  {
   "cell_type": "code",
   "execution_count": 8,
   "id": "2cc7fe94",
   "metadata": {},
   "outputs": [
    {
     "data": {
      "text/html": [
       "<div>\n",
       "<style scoped>\n",
       "    .dataframe tbody tr th:only-of-type {\n",
       "        vertical-align: middle;\n",
       "    }\n",
       "\n",
       "    .dataframe tbody tr th {\n",
       "        vertical-align: top;\n",
       "    }\n",
       "\n",
       "    .dataframe thead th {\n",
       "        text-align: right;\n",
       "    }\n",
       "</style>\n",
       "<table border=\"1\" class=\"dataframe\">\n",
       "  <thead>\n",
       "    <tr style=\"text-align: right;\">\n",
       "      <th></th>\n",
       "      <th>country</th>\n",
       "      <th>region</th>\n",
       "      <th>year</th>\n",
       "      <th>co2</th>\n",
       "    </tr>\n",
       "  </thead>\n",
       "  <tbody>\n",
       "    <tr>\n",
       "      <th>28372</th>\n",
       "      <td>Afghanistan</td>\n",
       "      <td>South Asia</td>\n",
       "      <td>1964</td>\n",
       "      <td>0.0863</td>\n",
       "    </tr>\n",
       "    <tr>\n",
       "      <th>28545</th>\n",
       "      <td>Afghanistan</td>\n",
       "      <td>South Asia</td>\n",
       "      <td>1965</td>\n",
       "      <td>0.1010</td>\n",
       "    </tr>\n",
       "    <tr>\n",
       "      <th>28718</th>\n",
       "      <td>Afghanistan</td>\n",
       "      <td>South Asia</td>\n",
       "      <td>1966</td>\n",
       "      <td>0.1080</td>\n",
       "    </tr>\n",
       "    <tr>\n",
       "      <th>28891</th>\n",
       "      <td>Afghanistan</td>\n",
       "      <td>South Asia</td>\n",
       "      <td>1967</td>\n",
       "      <td>0.1240</td>\n",
       "    </tr>\n",
       "    <tr>\n",
       "      <th>29064</th>\n",
       "      <td>Afghanistan</td>\n",
       "      <td>South Asia</td>\n",
       "      <td>1968</td>\n",
       "      <td>0.1160</td>\n",
       "    </tr>\n",
       "  </tbody>\n",
       "</table>\n",
       "</div>"
      ],
      "text/plain": [
       "           country      region  year     co2\n",
       "28372  Afghanistan  South Asia  1964  0.0863\n",
       "28545  Afghanistan  South Asia  1965  0.1010\n",
       "28718  Afghanistan  South Asia  1966  0.1080\n",
       "28891  Afghanistan  South Asia  1967  0.1240\n",
       "29064  Afghanistan  South Asia  1968  0.1160"
      ]
     },
     "execution_count": 8,
     "metadata": {},
     "output_type": "execute_result"
    }
   ],
   "source": [
    "df_co2 = new_co2[new_co2['year'].astype('int64') > 1963]\n",
    "df_co2 = df_co2.sort_values(by=['country', 'year'])\n",
    "df_co2['year'] = df_co2['year'].astype('int64')\n",
    "df_co2.head()"
   ]
  },
  {
   "cell_type": "code",
   "execution_count": 9,
   "id": "ee2a0792",
   "metadata": {},
   "outputs": [
    {
     "data": {
      "text/html": [
       "<div>\n",
       "<style scoped>\n",
       "    .dataframe tbody tr th:only-of-type {\n",
       "        vertical-align: middle;\n",
       "    }\n",
       "\n",
       "    .dataframe tbody tr th {\n",
       "        vertical-align: top;\n",
       "    }\n",
       "\n",
       "    .dataframe thead th {\n",
       "        text-align: right;\n",
       "    }\n",
       "</style>\n",
       "<table border=\"1\" class=\"dataframe\">\n",
       "  <thead>\n",
       "    <tr style=\"text-align: right;\">\n",
       "      <th></th>\n",
       "      <th>country</th>\n",
       "      <th>year</th>\n",
       "      <th>gdp</th>\n",
       "    </tr>\n",
       "  </thead>\n",
       "  <tbody>\n",
       "    <tr>\n",
       "      <th>0</th>\n",
       "      <td>Afghanistan</td>\n",
       "      <td>1964</td>\n",
       "      <td>1182.0</td>\n",
       "    </tr>\n",
       "    <tr>\n",
       "      <th>1</th>\n",
       "      <td>Afghanistan</td>\n",
       "      <td>1965</td>\n",
       "      <td>1182.0</td>\n",
       "    </tr>\n",
       "    <tr>\n",
       "      <th>2</th>\n",
       "      <td>Afghanistan</td>\n",
       "      <td>1966</td>\n",
       "      <td>1168.0</td>\n",
       "    </tr>\n",
       "    <tr>\n",
       "      <th>3</th>\n",
       "      <td>Afghanistan</td>\n",
       "      <td>1967</td>\n",
       "      <td>1173.0</td>\n",
       "    </tr>\n",
       "    <tr>\n",
       "      <th>4</th>\n",
       "      <td>Afghanistan</td>\n",
       "      <td>1968</td>\n",
       "      <td>1187.0</td>\n",
       "    </tr>\n",
       "  </tbody>\n",
       "</table>\n",
       "</div>"
      ],
      "text/plain": [
       "       country  year     gdp\n",
       "0  Afghanistan  1964  1182.0\n",
       "1  Afghanistan  1965  1182.0\n",
       "2  Afghanistan  1966  1168.0\n",
       "3  Afghanistan  1967  1173.0\n",
       "4  Afghanistan  1968  1187.0"
      ]
     },
     "execution_count": 9,
     "metadata": {},
     "output_type": "execute_result"
    }
   ],
   "source": [
    "df_gdp = gm[['Country', 'Year', 'gdp']]\n",
    "df_gdp.columns = ['country', 'year', 'gdp']\n",
    "df_gdp.head()"
   ]
  },
  {
   "cell_type": "code",
   "execution_count": 10,
   "id": "20c0fbb0",
   "metadata": {},
   "outputs": [
    {
     "data": {
      "text/html": [
       "<div>\n",
       "<style scoped>\n",
       "    .dataframe tbody tr th:only-of-type {\n",
       "        vertical-align: middle;\n",
       "    }\n",
       "\n",
       "    .dataframe tbody tr th {\n",
       "        vertical-align: top;\n",
       "    }\n",
       "\n",
       "    .dataframe thead th {\n",
       "        text-align: right;\n",
       "    }\n",
       "</style>\n",
       "<table border=\"1\" class=\"dataframe\">\n",
       "  <thead>\n",
       "    <tr style=\"text-align: right;\">\n",
       "      <th></th>\n",
       "      <th>country</th>\n",
       "      <th>region</th>\n",
       "      <th>year</th>\n",
       "      <th>co2</th>\n",
       "      <th>gdp</th>\n",
       "    </tr>\n",
       "  </thead>\n",
       "  <tbody>\n",
       "    <tr>\n",
       "      <th>0</th>\n",
       "      <td>Afghanistan</td>\n",
       "      <td>South Asia</td>\n",
       "      <td>1964</td>\n",
       "      <td>0.0863</td>\n",
       "      <td>1182.0</td>\n",
       "    </tr>\n",
       "    <tr>\n",
       "      <th>1</th>\n",
       "      <td>Afghanistan</td>\n",
       "      <td>South Asia</td>\n",
       "      <td>1965</td>\n",
       "      <td>0.1010</td>\n",
       "      <td>1182.0</td>\n",
       "    </tr>\n",
       "    <tr>\n",
       "      <th>2</th>\n",
       "      <td>Afghanistan</td>\n",
       "      <td>South Asia</td>\n",
       "      <td>1966</td>\n",
       "      <td>0.1080</td>\n",
       "      <td>1168.0</td>\n",
       "    </tr>\n",
       "    <tr>\n",
       "      <th>3</th>\n",
       "      <td>Afghanistan</td>\n",
       "      <td>South Asia</td>\n",
       "      <td>1967</td>\n",
       "      <td>0.1240</td>\n",
       "      <td>1173.0</td>\n",
       "    </tr>\n",
       "    <tr>\n",
       "      <th>4</th>\n",
       "      <td>Afghanistan</td>\n",
       "      <td>South Asia</td>\n",
       "      <td>1968</td>\n",
       "      <td>0.1160</td>\n",
       "      <td>1187.0</td>\n",
       "    </tr>\n",
       "  </tbody>\n",
       "</table>\n",
       "</div>"
      ],
      "text/plain": [
       "       country      region  year     co2     gdp\n",
       "0  Afghanistan  South Asia  1964  0.0863  1182.0\n",
       "1  Afghanistan  South Asia  1965  0.1010  1182.0\n",
       "2  Afghanistan  South Asia  1966  0.1080  1168.0\n",
       "3  Afghanistan  South Asia  1967  0.1240  1173.0\n",
       "4  Afghanistan  South Asia  1968  0.1160  1187.0"
      ]
     },
     "execution_count": 10,
     "metadata": {},
     "output_type": "execute_result"
    }
   ],
   "source": [
    "data = pd.merge(df_co2, df_gdp, on=['country', 'year'], how='left')\n",
    "data = data.dropna()\n",
    "data.head()"
   ]
  },
  {
   "cell_type": "code",
   "execution_count": 11,
   "id": "99b61656",
   "metadata": {},
   "outputs": [
    {
     "data": {
      "text/plain": [
       "array([[1.        , 0.78219731],\n",
       "       [0.78219731, 1.        ]])"
      ]
     },
     "execution_count": 11,
     "metadata": {},
     "output_type": "execute_result"
    }
   ],
   "source": [
    "# Checking the correlation between CO2 and GDP to ensure that this is worth visualizing\n",
    "\n",
    "np_co2 = np.array(data['co2'])\n",
    "np_gdp = np.array(data['gdp'])\n",
    "\n",
    "np.corrcoef(np_co2, np_gdp)"
   ]
  },
  {
   "cell_type": "code",
   "execution_count": 12,
   "id": "b41ceeea",
   "metadata": {},
   "outputs": [],
   "source": [
    "# Creating a base static plot for an interactive visualization\n",
    "# Importing bokeh\n",
    "\n",
    "from bokeh.io import curdoc, output_notebook\n",
    "from bokeh.plotting import figure, show\n",
    "from bokeh.models import HoverTool, ColumnDataSource, CategoricalColorMapper, Slider\n",
    "from bokeh.palettes import Spectral6\n",
    "from bokeh.layouts import widgetbox, row"
   ]
  },
  {
   "cell_type": "code",
   "execution_count": 13,
   "id": "2f778bf4",
   "metadata": {},
   "outputs": [
    {
     "data": {
      "text/html": [
       "<div class=\"bk-root\">\n",
       "        <a href=\"https://bokeh.org\" target=\"_blank\" class=\"bk-logo bk-logo-small bk-logo-notebook\"></a>\n",
       "        <span id=\"1002\">Loading BokehJS ...</span>\n",
       "    </div>\n"
      ]
     },
     "metadata": {},
     "output_type": "display_data"
    },
    {
     "data": {
      "application/javascript": [
       "(function(root) {\n",
       "  function now() {\n",
       "    return new Date();\n",
       "  }\n",
       "\n",
       "  const force = true;\n",
       "\n",
       "  if (typeof root._bokeh_onload_callbacks === \"undefined\" || force === true) {\n",
       "    root._bokeh_onload_callbacks = [];\n",
       "    root._bokeh_is_loading = undefined;\n",
       "  }\n",
       "\n",
       "const JS_MIME_TYPE = 'application/javascript';\n",
       "  const HTML_MIME_TYPE = 'text/html';\n",
       "  const EXEC_MIME_TYPE = 'application/vnd.bokehjs_exec.v0+json';\n",
       "  const CLASS_NAME = 'output_bokeh rendered_html';\n",
       "\n",
       "  /**\n",
       "   * Render data to the DOM node\n",
       "   */\n",
       "  function render(props, node) {\n",
       "    const script = document.createElement(\"script\");\n",
       "    node.appendChild(script);\n",
       "  }\n",
       "\n",
       "  /**\n",
       "   * Handle when an output is cleared or removed\n",
       "   */\n",
       "  function handleClearOutput(event, handle) {\n",
       "    const cell = handle.cell;\n",
       "\n",
       "    const id = cell.output_area._bokeh_element_id;\n",
       "    const server_id = cell.output_area._bokeh_server_id;\n",
       "    // Clean up Bokeh references\n",
       "    if (id != null && id in Bokeh.index) {\n",
       "      Bokeh.index[id].model.document.clear();\n",
       "      delete Bokeh.index[id];\n",
       "    }\n",
       "\n",
       "    if (server_id !== undefined) {\n",
       "      // Clean up Bokeh references\n",
       "      const cmd_clean = \"from bokeh.io.state import curstate; print(curstate().uuid_to_server['\" + server_id + \"'].get_sessions()[0].document.roots[0]._id)\";\n",
       "      cell.notebook.kernel.execute(cmd_clean, {\n",
       "        iopub: {\n",
       "          output: function(msg) {\n",
       "            const id = msg.content.text.trim();\n",
       "            if (id in Bokeh.index) {\n",
       "              Bokeh.index[id].model.document.clear();\n",
       "              delete Bokeh.index[id];\n",
       "            }\n",
       "          }\n",
       "        }\n",
       "      });\n",
       "      // Destroy server and session\n",
       "      const cmd_destroy = \"import bokeh.io.notebook as ion; ion.destroy_server('\" + server_id + \"')\";\n",
       "      cell.notebook.kernel.execute(cmd_destroy);\n",
       "    }\n",
       "  }\n",
       "\n",
       "  /**\n",
       "   * Handle when a new output is added\n",
       "   */\n",
       "  function handleAddOutput(event, handle) {\n",
       "    const output_area = handle.output_area;\n",
       "    const output = handle.output;\n",
       "\n",
       "    // limit handleAddOutput to display_data with EXEC_MIME_TYPE content only\n",
       "    if ((output.output_type != \"display_data\") || (!Object.prototype.hasOwnProperty.call(output.data, EXEC_MIME_TYPE))) {\n",
       "      return\n",
       "    }\n",
       "\n",
       "    const toinsert = output_area.element.find(\".\" + CLASS_NAME.split(' ')[0]);\n",
       "\n",
       "    if (output.metadata[EXEC_MIME_TYPE][\"id\"] !== undefined) {\n",
       "      toinsert[toinsert.length - 1].firstChild.textContent = output.data[JS_MIME_TYPE];\n",
       "      // store reference to embed id on output_area\n",
       "      output_area._bokeh_element_id = output.metadata[EXEC_MIME_TYPE][\"id\"];\n",
       "    }\n",
       "    if (output.metadata[EXEC_MIME_TYPE][\"server_id\"] !== undefined) {\n",
       "      const bk_div = document.createElement(\"div\");\n",
       "      bk_div.innerHTML = output.data[HTML_MIME_TYPE];\n",
       "      const script_attrs = bk_div.children[0].attributes;\n",
       "      for (let i = 0; i < script_attrs.length; i++) {\n",
       "        toinsert[toinsert.length - 1].firstChild.setAttribute(script_attrs[i].name, script_attrs[i].value);\n",
       "        toinsert[toinsert.length - 1].firstChild.textContent = bk_div.children[0].textContent\n",
       "      }\n",
       "      // store reference to server id on output_area\n",
       "      output_area._bokeh_server_id = output.metadata[EXEC_MIME_TYPE][\"server_id\"];\n",
       "    }\n",
       "  }\n",
       "\n",
       "  function register_renderer(events, OutputArea) {\n",
       "\n",
       "    function append_mime(data, metadata, element) {\n",
       "      // create a DOM node to render to\n",
       "      const toinsert = this.create_output_subarea(\n",
       "        metadata,\n",
       "        CLASS_NAME,\n",
       "        EXEC_MIME_TYPE\n",
       "      );\n",
       "      this.keyboard_manager.register_events(toinsert);\n",
       "      // Render to node\n",
       "      const props = {data: data, metadata: metadata[EXEC_MIME_TYPE]};\n",
       "      render(props, toinsert[toinsert.length - 1]);\n",
       "      element.append(toinsert);\n",
       "      return toinsert\n",
       "    }\n",
       "\n",
       "    /* Handle when an output is cleared or removed */\n",
       "    events.on('clear_output.CodeCell', handleClearOutput);\n",
       "    events.on('delete.Cell', handleClearOutput);\n",
       "\n",
       "    /* Handle when a new output is added */\n",
       "    events.on('output_added.OutputArea', handleAddOutput);\n",
       "\n",
       "    /**\n",
       "     * Register the mime type and append_mime function with output_area\n",
       "     */\n",
       "    OutputArea.prototype.register_mime_type(EXEC_MIME_TYPE, append_mime, {\n",
       "      /* Is output safe? */\n",
       "      safe: true,\n",
       "      /* Index of renderer in `output_area.display_order` */\n",
       "      index: 0\n",
       "    });\n",
       "  }\n",
       "\n",
       "  // register the mime type if in Jupyter Notebook environment and previously unregistered\n",
       "  if (root.Jupyter !== undefined) {\n",
       "    const events = require('base/js/events');\n",
       "    const OutputArea = require('notebook/js/outputarea').OutputArea;\n",
       "\n",
       "    if (OutputArea.prototype.mime_types().indexOf(EXEC_MIME_TYPE) == -1) {\n",
       "      register_renderer(events, OutputArea);\n",
       "    }\n",
       "  }\n",
       "  if (typeof (root._bokeh_timeout) === \"undefined\" || force === true) {\n",
       "    root._bokeh_timeout = Date.now() + 5000;\n",
       "    root._bokeh_failed_load = false;\n",
       "  }\n",
       "\n",
       "  const NB_LOAD_WARNING = {'data': {'text/html':\n",
       "     \"<div style='background-color: #fdd'>\\n\"+\n",
       "     \"<p>\\n\"+\n",
       "     \"BokehJS does not appear to have successfully loaded. If loading BokehJS from CDN, this \\n\"+\n",
       "     \"may be due to a slow or bad network connection. Possible fixes:\\n\"+\n",
       "     \"</p>\\n\"+\n",
       "     \"<ul>\\n\"+\n",
       "     \"<li>re-rerun `output_notebook()` to attempt to load from CDN again, or</li>\\n\"+\n",
       "     \"<li>use INLINE resources instead, as so:</li>\\n\"+\n",
       "     \"</ul>\\n\"+\n",
       "     \"<code>\\n\"+\n",
       "     \"from bokeh.resources import INLINE\\n\"+\n",
       "     \"output_notebook(resources=INLINE)\\n\"+\n",
       "     \"</code>\\n\"+\n",
       "     \"</div>\"}};\n",
       "\n",
       "  function display_loaded() {\n",
       "    const el = document.getElementById(\"1002\");\n",
       "    if (el != null) {\n",
       "      el.textContent = \"BokehJS is loading...\";\n",
       "    }\n",
       "    if (root.Bokeh !== undefined) {\n",
       "      if (el != null) {\n",
       "        el.textContent = \"BokehJS \" + root.Bokeh.version + \" successfully loaded.\";\n",
       "      }\n",
       "    } else if (Date.now() < root._bokeh_timeout) {\n",
       "      setTimeout(display_loaded, 100)\n",
       "    }\n",
       "  }\n",
       "\n",
       "  function run_callbacks() {\n",
       "    try {\n",
       "      root._bokeh_onload_callbacks.forEach(function(callback) {\n",
       "        if (callback != null)\n",
       "          callback();\n",
       "      });\n",
       "    } finally {\n",
       "      delete root._bokeh_onload_callbacks\n",
       "    }\n",
       "    console.debug(\"Bokeh: all callbacks have finished\");\n",
       "  }\n",
       "\n",
       "  function load_libs(css_urls, js_urls, callback) {\n",
       "    if (css_urls == null) css_urls = [];\n",
       "    if (js_urls == null) js_urls = [];\n",
       "\n",
       "    root._bokeh_onload_callbacks.push(callback);\n",
       "    if (root._bokeh_is_loading > 0) {\n",
       "      console.debug(\"Bokeh: BokehJS is being loaded, scheduling callback at\", now());\n",
       "      return null;\n",
       "    }\n",
       "    if (js_urls == null || js_urls.length === 0) {\n",
       "      run_callbacks();\n",
       "      return null;\n",
       "    }\n",
       "    console.debug(\"Bokeh: BokehJS not loaded, scheduling load and callback at\", now());\n",
       "    root._bokeh_is_loading = css_urls.length + js_urls.length;\n",
       "\n",
       "    function on_load() {\n",
       "      root._bokeh_is_loading--;\n",
       "      if (root._bokeh_is_loading === 0) {\n",
       "        console.debug(\"Bokeh: all BokehJS libraries/stylesheets loaded\");\n",
       "        run_callbacks()\n",
       "      }\n",
       "    }\n",
       "\n",
       "    function on_error(url) {\n",
       "      console.error(\"failed to load \" + url);\n",
       "    }\n",
       "\n",
       "    for (let i = 0; i < css_urls.length; i++) {\n",
       "      const url = css_urls[i];\n",
       "      const element = document.createElement(\"link\");\n",
       "      element.onload = on_load;\n",
       "      element.onerror = on_error.bind(null, url);\n",
       "      element.rel = \"stylesheet\";\n",
       "      element.type = \"text/css\";\n",
       "      element.href = url;\n",
       "      console.debug(\"Bokeh: injecting link tag for BokehJS stylesheet: \", url);\n",
       "      document.body.appendChild(element);\n",
       "    }\n",
       "\n",
       "    for (let i = 0; i < js_urls.length; i++) {\n",
       "      const url = js_urls[i];\n",
       "      const element = document.createElement('script');\n",
       "      element.onload = on_load;\n",
       "      element.onerror = on_error.bind(null, url);\n",
       "      element.async = false;\n",
       "      element.src = url;\n",
       "      console.debug(\"Bokeh: injecting script tag for BokehJS library: \", url);\n",
       "      document.head.appendChild(element);\n",
       "    }\n",
       "  };\n",
       "\n",
       "  function inject_raw_css(css) {\n",
       "    const element = document.createElement(\"style\");\n",
       "    element.appendChild(document.createTextNode(css));\n",
       "    document.body.appendChild(element);\n",
       "  }\n",
       "\n",
       "  const js_urls = [\"https://cdn.bokeh.org/bokeh/release/bokeh-2.4.3.min.js\", \"https://cdn.bokeh.org/bokeh/release/bokeh-gl-2.4.3.min.js\", \"https://cdn.bokeh.org/bokeh/release/bokeh-widgets-2.4.3.min.js\", \"https://cdn.bokeh.org/bokeh/release/bokeh-tables-2.4.3.min.js\", \"https://cdn.bokeh.org/bokeh/release/bokeh-mathjax-2.4.3.min.js\"];\n",
       "  const css_urls = [];\n",
       "\n",
       "  const inline_js = [    function(Bokeh) {\n",
       "      Bokeh.set_log_level(\"info\");\n",
       "    },\n",
       "function(Bokeh) {\n",
       "    }\n",
       "  ];\n",
       "\n",
       "  function run_inline_js() {\n",
       "    if (root.Bokeh !== undefined || force === true) {\n",
       "          for (let i = 0; i < inline_js.length; i++) {\n",
       "      inline_js[i].call(root, root.Bokeh);\n",
       "    }\n",
       "if (force === true) {\n",
       "        display_loaded();\n",
       "      }} else if (Date.now() < root._bokeh_timeout) {\n",
       "      setTimeout(run_inline_js, 100);\n",
       "    } else if (!root._bokeh_failed_load) {\n",
       "      console.log(\"Bokeh: BokehJS failed to load within specified timeout.\");\n",
       "      root._bokeh_failed_load = true;\n",
       "    } else if (force !== true) {\n",
       "      const cell = $(document.getElementById(\"1002\")).parents('.cell').data().cell;\n",
       "      cell.output_area.append_execute_result(NB_LOAD_WARNING)\n",
       "    }\n",
       "  }\n",
       "\n",
       "  if (root._bokeh_is_loading === 0) {\n",
       "    console.debug(\"Bokeh: BokehJS loaded, going straight to plotting\");\n",
       "    run_inline_js();\n",
       "  } else {\n",
       "    load_libs(css_urls, js_urls, function() {\n",
       "      console.debug(\"Bokeh: BokehJS plotting callback run at\", now());\n",
       "      run_inline_js();\n",
       "    });\n",
       "  }\n",
       "}(window));"
      ],
      "application/vnd.bokehjs_load.v0+json": "(function(root) {\n  function now() {\n    return new Date();\n  }\n\n  const force = true;\n\n  if (typeof root._bokeh_onload_callbacks === \"undefined\" || force === true) {\n    root._bokeh_onload_callbacks = [];\n    root._bokeh_is_loading = undefined;\n  }\n\n\n  if (typeof (root._bokeh_timeout) === \"undefined\" || force === true) {\n    root._bokeh_timeout = Date.now() + 5000;\n    root._bokeh_failed_load = false;\n  }\n\n  const NB_LOAD_WARNING = {'data': {'text/html':\n     \"<div style='background-color: #fdd'>\\n\"+\n     \"<p>\\n\"+\n     \"BokehJS does not appear to have successfully loaded. If loading BokehJS from CDN, this \\n\"+\n     \"may be due to a slow or bad network connection. Possible fixes:\\n\"+\n     \"</p>\\n\"+\n     \"<ul>\\n\"+\n     \"<li>re-rerun `output_notebook()` to attempt to load from CDN again, or</li>\\n\"+\n     \"<li>use INLINE resources instead, as so:</li>\\n\"+\n     \"</ul>\\n\"+\n     \"<code>\\n\"+\n     \"from bokeh.resources import INLINE\\n\"+\n     \"output_notebook(resources=INLINE)\\n\"+\n     \"</code>\\n\"+\n     \"</div>\"}};\n\n  function display_loaded() {\n    const el = document.getElementById(\"1002\");\n    if (el != null) {\n      el.textContent = \"BokehJS is loading...\";\n    }\n    if (root.Bokeh !== undefined) {\n      if (el != null) {\n        el.textContent = \"BokehJS \" + root.Bokeh.version + \" successfully loaded.\";\n      }\n    } else if (Date.now() < root._bokeh_timeout) {\n      setTimeout(display_loaded, 100)\n    }\n  }\n\n  function run_callbacks() {\n    try {\n      root._bokeh_onload_callbacks.forEach(function(callback) {\n        if (callback != null)\n          callback();\n      });\n    } finally {\n      delete root._bokeh_onload_callbacks\n    }\n    console.debug(\"Bokeh: all callbacks have finished\");\n  }\n\n  function load_libs(css_urls, js_urls, callback) {\n    if (css_urls == null) css_urls = [];\n    if (js_urls == null) js_urls = [];\n\n    root._bokeh_onload_callbacks.push(callback);\n    if (root._bokeh_is_loading > 0) {\n      console.debug(\"Bokeh: BokehJS is being loaded, scheduling callback at\", now());\n      return null;\n    }\n    if (js_urls == null || js_urls.length === 0) {\n      run_callbacks();\n      return null;\n    }\n    console.debug(\"Bokeh: BokehJS not loaded, scheduling load and callback at\", now());\n    root._bokeh_is_loading = css_urls.length + js_urls.length;\n\n    function on_load() {\n      root._bokeh_is_loading--;\n      if (root._bokeh_is_loading === 0) {\n        console.debug(\"Bokeh: all BokehJS libraries/stylesheets loaded\");\n        run_callbacks()\n      }\n    }\n\n    function on_error(url) {\n      console.error(\"failed to load \" + url);\n    }\n\n    for (let i = 0; i < css_urls.length; i++) {\n      const url = css_urls[i];\n      const element = document.createElement(\"link\");\n      element.onload = on_load;\n      element.onerror = on_error.bind(null, url);\n      element.rel = \"stylesheet\";\n      element.type = \"text/css\";\n      element.href = url;\n      console.debug(\"Bokeh: injecting link tag for BokehJS stylesheet: \", url);\n      document.body.appendChild(element);\n    }\n\n    for (let i = 0; i < js_urls.length; i++) {\n      const url = js_urls[i];\n      const element = document.createElement('script');\n      element.onload = on_load;\n      element.onerror = on_error.bind(null, url);\n      element.async = false;\n      element.src = url;\n      console.debug(\"Bokeh: injecting script tag for BokehJS library: \", url);\n      document.head.appendChild(element);\n    }\n  };\n\n  function inject_raw_css(css) {\n    const element = document.createElement(\"style\");\n    element.appendChild(document.createTextNode(css));\n    document.body.appendChild(element);\n  }\n\n  const js_urls = [\"https://cdn.bokeh.org/bokeh/release/bokeh-2.4.3.min.js\", \"https://cdn.bokeh.org/bokeh/release/bokeh-gl-2.4.3.min.js\", \"https://cdn.bokeh.org/bokeh/release/bokeh-widgets-2.4.3.min.js\", \"https://cdn.bokeh.org/bokeh/release/bokeh-tables-2.4.3.min.js\", \"https://cdn.bokeh.org/bokeh/release/bokeh-mathjax-2.4.3.min.js\"];\n  const css_urls = [];\n\n  const inline_js = [    function(Bokeh) {\n      Bokeh.set_log_level(\"info\");\n    },\nfunction(Bokeh) {\n    }\n  ];\n\n  function run_inline_js() {\n    if (root.Bokeh !== undefined || force === true) {\n          for (let i = 0; i < inline_js.length; i++) {\n      inline_js[i].call(root, root.Bokeh);\n    }\nif (force === true) {\n        display_loaded();\n      }} else if (Date.now() < root._bokeh_timeout) {\n      setTimeout(run_inline_js, 100);\n    } else if (!root._bokeh_failed_load) {\n      console.log(\"Bokeh: BokehJS failed to load within specified timeout.\");\n      root._bokeh_failed_load = true;\n    } else if (force !== true) {\n      const cell = $(document.getElementById(\"1002\")).parents('.cell').data().cell;\n      cell.output_area.append_execute_result(NB_LOAD_WARNING)\n    }\n  }\n\n  if (root._bokeh_is_loading === 0) {\n    console.debug(\"Bokeh: BokehJS loaded, going straight to plotting\");\n    run_inline_js();\n  } else {\n    load_libs(css_urls, js_urls, function() {\n      console.debug(\"Bokeh: BokehJS plotting callback run at\", now());\n      run_inline_js();\n    });\n  }\n}(window));"
     },
     "metadata": {},
     "output_type": "display_data"
    }
   ],
   "source": [
    "output_notebook()"
   ]
  },
  {
   "cell_type": "code",
   "execution_count": 14,
   "id": "68051ce6",
   "metadata": {},
   "outputs": [],
   "source": [
    "# Color code the data points\n",
    "\n",
    "regions_list = data.region.unique().tolist()\n",
    "\n",
    "color_mapper = CategoricalColorMapper(factors=regions_list, palette=Spectral6)"
   ]
  },
  {
   "cell_type": "code",
   "execution_count": 18,
   "id": "11821150",
   "metadata": {},
   "outputs": [],
   "source": [
    "# Make data source for the plot\n",
    "\n",
    "source = ColumnDataSource(data={\n",
    "    'x': data.gdp[data['year'] == 1964],\n",
    "    'y': data.co2[data['year'] == 1964],\n",
    "    'country': data.country[data['year'] == 1964],\n",
    "    'region': data.region[data['year'] == 1964],\n",
    "})\n",
    "                         "
   ]
  },
  {
   "cell_type": "code",
   "execution_count": 44,
   "id": "1120b99c",
   "metadata": {},
   "outputs": [],
   "source": [
    "xmin, xmax = min(data.gdp), max(data.gdp)"
   ]
  },
  {
   "cell_type": "code",
   "execution_count": 45,
   "id": "a1eb494e",
   "metadata": {},
   "outputs": [],
   "source": [
    "ymin, ymax = min(data.co2), max(data.co2)"
   ]
  },
  {
   "cell_type": "code",
   "execution_count": 97,
   "id": "da53a810",
   "metadata": {},
   "outputs": [],
   "source": [
    "# Create empty figure\n",
    "\n",
    "plot = figure(title='CO2 Emissions vs GDP in 1964', title_location='above',\n",
    "             x_axis_label='Income Per Person',\n",
    "             y_axis_label='CO2 Emissions (tons per person)',\n",
    "             plot_height=600, plot_width=1000, y_axis_type='log', x_range=(-5000, 25000))\n",
    "            # x_range=(xmin, xmax),\n",
    "            # y_range=(ymin, ymax), y_axis_type='log')"
   ]
  },
  {
   "cell_type": "code",
   "execution_count": 98,
   "id": "7f7a65d6",
   "metadata": {},
   "outputs": [
    {
     "data": {
      "text/html": [
       "<div style=\"display: table;\"><div style=\"display: table-row;\"><div style=\"display: table-cell;\"><b title=\"bokeh.models.renderers.GlyphRenderer\">GlyphRenderer</b>(</div><div style=\"display: table-cell;\">id&nbsp;=&nbsp;'3486', <span id=\"3506\" style=\"cursor: pointer;\">&hellip;)</span></div></div><div class=\"3505\" style=\"display: none;\"><div style=\"display: table-cell;\"></div><div style=\"display: table-cell;\">coordinates&nbsp;=&nbsp;None,</div></div><div class=\"3505\" style=\"display: none;\"><div style=\"display: table-cell;\"></div><div style=\"display: table-cell;\">data_source&nbsp;=&nbsp;ColumnDataSource(id='1004', ...),</div></div><div class=\"3505\" style=\"display: none;\"><div style=\"display: table-cell;\"></div><div style=\"display: table-cell;\">glyph&nbsp;=&nbsp;Circle(id='3483', ...),</div></div><div class=\"3505\" style=\"display: none;\"><div style=\"display: table-cell;\"></div><div style=\"display: table-cell;\">group&nbsp;=&nbsp;None,</div></div><div class=\"3505\" style=\"display: none;\"><div style=\"display: table-cell;\"></div><div style=\"display: table-cell;\">hover_glyph&nbsp;=&nbsp;None,</div></div><div class=\"3505\" style=\"display: none;\"><div style=\"display: table-cell;\"></div><div style=\"display: table-cell;\">js_event_callbacks&nbsp;=&nbsp;{},</div></div><div class=\"3505\" style=\"display: none;\"><div style=\"display: table-cell;\"></div><div style=\"display: table-cell;\">js_property_callbacks&nbsp;=&nbsp;{},</div></div><div class=\"3505\" style=\"display: none;\"><div style=\"display: table-cell;\"></div><div style=\"display: table-cell;\">level&nbsp;=&nbsp;'glyph',</div></div><div class=\"3505\" style=\"display: none;\"><div style=\"display: table-cell;\"></div><div style=\"display: table-cell;\">muted&nbsp;=&nbsp;False,</div></div><div class=\"3505\" style=\"display: none;\"><div style=\"display: table-cell;\"></div><div style=\"display: table-cell;\">muted_glyph&nbsp;=&nbsp;Circle(id='3485', ...),</div></div><div class=\"3505\" style=\"display: none;\"><div style=\"display: table-cell;\"></div><div style=\"display: table-cell;\">name&nbsp;=&nbsp;None,</div></div><div class=\"3505\" style=\"display: none;\"><div style=\"display: table-cell;\"></div><div style=\"display: table-cell;\">nonselection_glyph&nbsp;=&nbsp;Circle(id='3484', ...),</div></div><div class=\"3505\" style=\"display: none;\"><div style=\"display: table-cell;\"></div><div style=\"display: table-cell;\">selection_glyph&nbsp;=&nbsp;'auto',</div></div><div class=\"3505\" style=\"display: none;\"><div style=\"display: table-cell;\"></div><div style=\"display: table-cell;\">subscribed_events&nbsp;=&nbsp;[],</div></div><div class=\"3505\" style=\"display: none;\"><div style=\"display: table-cell;\"></div><div style=\"display: table-cell;\">syncable&nbsp;=&nbsp;True,</div></div><div class=\"3505\" style=\"display: none;\"><div style=\"display: table-cell;\"></div><div style=\"display: table-cell;\">tags&nbsp;=&nbsp;[],</div></div><div class=\"3505\" style=\"display: none;\"><div style=\"display: table-cell;\"></div><div style=\"display: table-cell;\">view&nbsp;=&nbsp;CDSView(id='3487', ...),</div></div><div class=\"3505\" style=\"display: none;\"><div style=\"display: table-cell;\"></div><div style=\"display: table-cell;\">visible&nbsp;=&nbsp;True,</div></div><div class=\"3505\" style=\"display: none;\"><div style=\"display: table-cell;\"></div><div style=\"display: table-cell;\">x_range_name&nbsp;=&nbsp;'default',</div></div><div class=\"3505\" style=\"display: none;\"><div style=\"display: table-cell;\"></div><div style=\"display: table-cell;\">y_range_name&nbsp;=&nbsp;'default')</div></div></div>\n",
       "<script>\n",
       "(function() {\n",
       "  let expanded = false;\n",
       "  const ellipsis = document.getElementById(\"3506\");\n",
       "  ellipsis.addEventListener(\"click\", function() {\n",
       "    const rows = document.getElementsByClassName(\"3505\");\n",
       "    for (let i = 0; i < rows.length; i++) {\n",
       "      const el = rows[i];\n",
       "      el.style.display = expanded ? \"none\" : \"table-row\";\n",
       "    }\n",
       "    ellipsis.innerHTML = expanded ? \"&hellip;)\" : \"&lsaquo;&lsaquo;&lsaquo;\";\n",
       "    expanded = !expanded;\n",
       "  });\n",
       "})();\n",
       "</script>\n"
      ],
      "text/plain": [
       "GlyphRenderer(id='3486', ...)"
      ]
     },
     "execution_count": 98,
     "metadata": {},
     "output_type": "execute_result"
    }
   ],
   "source": [
    "# Add circular glyphs to the plot\n",
    "\n",
    "plot.circle(x='x', y='y', fill_alpha=0.8, source=source, legend_group='region', \n",
    "            color=dict(field='region', transform=color_mapper), size=7)"
   ]
  },
  {
   "cell_type": "code",
   "execution_count": 99,
   "id": "92c6861a",
   "metadata": {},
   "outputs": [],
   "source": [
    "plot.legend.location = 'bottom_right'\n",
    "#plot.legend.click_policy = 'show'"
   ]
  },
  {
   "cell_type": "code",
   "execution_count": 100,
   "id": "5d3062e0",
   "metadata": {
    "scrolled": true
   },
   "outputs": [
    {
     "data": {
      "text/html": [
       "\n",
       "  <div class=\"bk-root\" id=\"b05c5d55-1129-4aed-a2b6-0755ed6a975e\" data-root-id=\"3449\"></div>\n"
      ]
     },
     "metadata": {},
     "output_type": "display_data"
    },
    {
     "data": {
      "application/javascript": [
       "(function(root) {\n",
       "  function embed_document(root) {\n",
       "  const docs_json = {\"2973e302-a51c-4069-a3c3-876310feea39\":{\"defs\":[],\"roots\":{\"references\":[{\"attributes\":{\"below\":[{\"id\":\"3460\"}],\"center\":[{\"id\":\"3463\"},{\"id\":\"3467\"},{\"id\":\"3498\"}],\"left\":[{\"id\":\"3464\"}],\"renderers\":[{\"id\":\"3486\"}],\"title\":{\"id\":\"3450\"},\"toolbar\":{\"id\":\"3475\"},\"width\":1000,\"x_range\":{\"id\":\"3452\"},\"x_scale\":{\"id\":\"3456\"},\"y_range\":{\"id\":\"3454\"},\"y_scale\":{\"id\":\"3458\"}},\"id\":\"3449\",\"subtype\":\"Figure\",\"type\":\"Plot\"},{\"attributes\":{\"axis\":{\"id\":\"3464\"},\"coordinates\":null,\"dimension\":1,\"group\":null,\"ticker\":null},\"id\":\"3467\",\"type\":\"Grid\"},{\"attributes\":{\"axis\":{\"id\":\"3460\"},\"coordinates\":null,\"group\":null,\"ticker\":null},\"id\":\"3463\",\"type\":\"Grid\"},{\"attributes\":{},\"id\":\"3454\",\"type\":\"DataRange1d\"},{\"attributes\":{},\"id\":\"3456\",\"type\":\"LinearScale\"},{\"attributes\":{\"bottom_units\":\"screen\",\"coordinates\":null,\"fill_alpha\":0.5,\"fill_color\":\"lightgrey\",\"group\":null,\"left_units\":\"screen\",\"level\":\"overlay\",\"line_alpha\":1.0,\"line_color\":\"black\",\"line_dash\":[4,4],\"line_width\":2,\"right_units\":\"screen\",\"syncable\":false,\"top_units\":\"screen\"},\"id\":\"3474\",\"type\":\"BoxAnnotation\"},{\"attributes\":{\"axis_label\":\"CO2 Emissions (tons per person)\",\"coordinates\":null,\"formatter\":{\"id\":\"3490\"},\"group\":null,\"major_label_policy\":{\"id\":\"3491\"},\"ticker\":{\"id\":\"3465\"}},\"id\":\"3464\",\"type\":\"LogAxis\"},{\"attributes\":{\"index\":1,\"label\":{\"value\":\"Europe & Central Asia\"},\"renderers\":[{\"id\":\"3486\"}]},\"id\":\"3501\",\"type\":\"LegendItem\"},{\"attributes\":{\"axis_label\":\"Income Per Person\",\"coordinates\":null,\"formatter\":{\"id\":\"3493\"},\"group\":null,\"major_label_policy\":{\"id\":\"3494\"},\"ticker\":{\"id\":\"3461\"}},\"id\":\"3460\",\"type\":\"LinearAxis\"},{\"attributes\":{\"ticker\":null},\"id\":\"3490\",\"type\":\"LogTickFormatter\"},{\"attributes\":{\"index\":0,\"label\":{\"value\":\"South Asia\"},\"renderers\":[{\"id\":\"3486\"}]},\"id\":\"3503\",\"type\":\"LegendItem\"},{\"attributes\":{},\"id\":\"3469\",\"type\":\"WheelZoomTool\"},{\"attributes\":{},\"id\":\"3468\",\"type\":\"PanTool\"},{\"attributes\":{},\"id\":\"3458\",\"type\":\"LogScale\"},{\"attributes\":{\"coordinates\":null,\"data_source\":{\"id\":\"1004\"},\"glyph\":{\"id\":\"3483\"},\"group\":null,\"hover_glyph\":null,\"muted_glyph\":{\"id\":\"3485\"},\"nonselection_glyph\":{\"id\":\"3484\"},\"view\":{\"id\":\"3487\"}},\"id\":\"3486\",\"type\":\"GlyphRenderer\"},{\"attributes\":{\"overlay\":{\"id\":\"3474\"}},\"id\":\"3470\",\"type\":\"BoxZoomTool\"},{\"attributes\":{},\"id\":\"3472\",\"type\":\"ResetTool\"},{\"attributes\":{},\"id\":\"3461\",\"type\":\"BasicTicker\"},{\"attributes\":{},\"id\":\"3494\",\"type\":\"AllLabels\"},{\"attributes\":{\"coordinates\":null,\"group\":null,\"text\":\"CO2 Emissions vs GDP in 1964\"},\"id\":\"3450\",\"type\":\"Title\"},{\"attributes\":{\"data\":{\"country\":[\"Afghanistan\",\"Albania\",\"Algeria\",\"Angola\",\"Antigua and Barbuda\",\"Argentina\",\"Armenia\",\"Australia\",\"Austria\",\"Azerbaijan\",\"Bahamas\",\"Bahrain\",\"Bangladesh\",\"Barbados\",\"Belarus\",\"Belgium\",\"Belize\",\"Benin\",\"Bolivia\",\"Brazil\",\"Brunei\",\"Bulgaria\",\"Burkina Faso\",\"Burundi\",\"Cambodia\",\"Cameroon\",\"Canada\",\"Cape Verde\",\"Chad\",\"Chile\",\"China\",\"Colombia\",\"Comoros\",\"Congo, Dem. Rep.\",\"Congo, Rep.\",\"Costa Rica\",\"Cote d'Ivoire\",\"Cuba\",\"Cyprus\",\"Denmark\",\"Djibouti\",\"Ecuador\",\"Egypt\",\"El Salvador\",\"Equatorial Guinea\",\"Ethiopia\",\"Fiji\",\"Finland\",\"France\",\"Gabon\",\"Gambia\",\"Georgia\",\"Germany\",\"Ghana\",\"Greece\",\"Grenada\",\"Guatemala\",\"Guinea\",\"Guinea-Bissau\",\"Guyana\",\"Haiti\",\"Honduras\",\"Hungary\",\"Iceland\",\"India\",\"Indonesia\",\"Iran\",\"Iraq\",\"Ireland\",\"Israel\",\"Italy\",\"Jamaica\",\"Japan\",\"Jordan\",\"Kazakhstan\",\"Kenya\",\"Kiribati\",\"Kuwait\",\"Lebanon\",\"Liberia\",\"Libya\",\"Lithuania\",\"Luxembourg\",\"Madagascar\",\"Malawi\",\"Mali\",\"Malta\",\"Mauritania\",\"Mauritius\",\"Mexico\",\"Moldova\",\"Mongolia\",\"Morocco\",\"Mozambique\",\"Myanmar\",\"Nepal\",\"Netherlands\",\"New Zealand\",\"Nicaragua\",\"Niger\",\"Nigeria\",\"Norway\",\"Oman\",\"Pakistan\",\"Panama\",\"Papua New Guinea\",\"Paraguay\",\"Peru\",\"Philippines\",\"Poland\",\"Portugal\",\"Qatar\",\"Romania\",\"Russia\",\"Rwanda\",\"Samoa\",\"Sao Tome and Principe\",\"Saudi Arabia\",\"Senegal\",\"Seychelles\",\"Sierra Leone\",\"Singapore\",\"Slovak Republic\",\"Solomon Islands\",\"Somalia\",\"South Africa\",\"Spain\",\"Sri Lanka\",\"Sudan\",\"Suriname\",\"Swaziland\",\"Sweden\",\"Switzerland\",\"Syria\",\"Tajikistan\",\"Tanzania\",\"Thailand\",\"Togo\",\"Tonga\",\"Trinidad and Tobago\",\"Tunisia\",\"Turkey\",\"Turkmenistan\",\"Uganda\",\"Ukraine\",\"United Arab Emirates\",\"United Kingdom\",\"United States\",\"Uruguay\",\"Uzbekistan\",\"Vanuatu\",\"Venezuela\",\"Vietnam\",\"Zambia\",\"Zimbabwe\"],\"region\":[\"South Asia\",\"Europe & Central Asia\",\"Middle East & North Africa\",\"Sub-Saharan Africa\",\"America\",\"America\",\"Europe & Central Asia\",\"East Asia & Pacific\",\"Europe & Central Asia\",\"Europe & Central Asia\",\"America\",\"Middle East & North Africa\",\"South Asia\",\"America\",\"Europe & Central Asia\",\"Europe & Central Asia\",\"America\",\"Sub-Saharan Africa\",\"America\",\"America\",\"East Asia & Pacific\",\"Europe & Central Asia\",\"Sub-Saharan Africa\",\"Sub-Saharan Africa\",\"East Asia & Pacific\",\"Sub-Saharan Africa\",\"America\",\"Sub-Saharan Africa\",\"Sub-Saharan Africa\",\"America\",\"East Asia & Pacific\",\"America\",\"Sub-Saharan Africa\",\"Sub-Saharan Africa\",\"Sub-Saharan Africa\",\"America\",\"Sub-Saharan Africa\",\"America\",\"Europe & Central Asia\",\"Europe & Central Asia\",\"Middle East & North Africa\",\"America\",\"Middle East & North Africa\",\"America\",\"Sub-Saharan Africa\",\"Sub-Saharan Africa\",\"East Asia & Pacific\",\"Europe & Central Asia\",\"Europe & Central Asia\",\"Sub-Saharan Africa\",\"Sub-Saharan Africa\",\"Europe & Central Asia\",\"Europe & Central Asia\",\"Sub-Saharan Africa\",\"Europe & Central Asia\",\"America\",\"America\",\"Sub-Saharan Africa\",\"Sub-Saharan Africa\",\"America\",\"America\",\"America\",\"Europe & Central Asia\",\"Europe & Central Asia\",\"South Asia\",\"East Asia & Pacific\",\"Middle East & North Africa\",\"Middle East & North Africa\",\"Europe & Central Asia\",\"Middle East & North Africa\",\"Europe & Central Asia\",\"America\",\"East Asia & Pacific\",\"Middle East & North Africa\",\"Europe & Central Asia\",\"Sub-Saharan Africa\",\"East Asia & Pacific\",\"Middle East & North Africa\",\"Middle East & North Africa\",\"Sub-Saharan Africa\",\"Middle East & North Africa\",\"Europe & Central Asia\",\"Europe & Central Asia\",\"Sub-Saharan Africa\",\"Sub-Saharan Africa\",\"Sub-Saharan Africa\",\"Europe & Central Asia\",\"Sub-Saharan Africa\",\"Sub-Saharan Africa\",\"America\",\"Europe & Central Asia\",\"East Asia & Pacific\",\"Middle East & North Africa\",\"Sub-Saharan Africa\",\"East Asia & Pacific\",\"South Asia\",\"Europe & Central Asia\",\"East Asia & Pacific\",\"America\",\"Sub-Saharan Africa\",\"Sub-Saharan Africa\",\"Europe & Central Asia\",\"Middle East & North Africa\",\"South Asia\",\"America\",\"East Asia & Pacific\",\"America\",\"America\",\"East Asia & Pacific\",\"Europe & Central Asia\",\"Europe & Central Asia\",\"Middle East & North Africa\",\"Europe & Central Asia\",\"Europe & Central Asia\",\"Sub-Saharan Africa\",\"East Asia & Pacific\",\"Sub-Saharan Africa\",\"Middle East & North Africa\",\"Sub-Saharan Africa\",\"Sub-Saharan Africa\",\"Sub-Saharan Africa\",\"East Asia & Pacific\",\"Europe & Central Asia\",\"East Asia & Pacific\",\"Sub-Saharan Africa\",\"Sub-Saharan Africa\",\"Europe & Central Asia\",\"South Asia\",\"Sub-Saharan Africa\",\"America\",\"Sub-Saharan Africa\",\"Europe & Central Asia\",\"Europe & Central Asia\",\"Middle East & North Africa\",\"Europe & Central Asia\",\"Sub-Saharan Africa\",\"East Asia & Pacific\",\"Sub-Saharan Africa\",\"East Asia & Pacific\",\"America\",\"Middle East & North Africa\",\"Europe & Central Asia\",\"Europe & Central Asia\",\"Sub-Saharan Africa\",\"Europe & Central Asia\",\"Middle East & North Africa\",\"Europe & Central Asia\",\"America\",\"America\",\"Europe & Central Asia\",\"East Asia & Pacific\",\"America\",\"East Asia & Pacific\",\"Sub-Saharan Africa\",\"Sub-Saharan Africa\"],\"x\":{\"__ndarray__\":\"AAAAAAB4kkAAAAAAAJ6nQAAAAAAAPbZAAAAAAADdsUAAAAAAAJCzQAAAAACAEcBAAAAAAAAOpkAAAAAAAHHPQAAAAACALctAAAAAAAB3tkAAAAAAALzRQAAAAADAK9hAAAAAAADIkUAAAAAAADG2QAAAAAAABbFAAAAAAIBJzUAAAAAAAISgQAAAAAAAHJJAAAAAAAA2p0AAAAAAAGOyQAAAAAAgfPBAAAAAAADet0AAAAAAADiGQAAAAAAA2IJAAAAAAAAwmEAAAAAAANidQAAAAAAAFNBAAAAAAAD4i0AAAAAAAASWQAAAAAAAiblAAAAAAABIhkAAAAAAAEqtQAAAAAAA+JRAAAAAAAB4oEAAAAAAANShQAAAAAAAj7FAAAAAAADgqUAAAAAAgO3BQAAAAAAAo7lAAAAAAADN0UAAAAAAAOisQAAAAAAAsrJAAAAAAAAWo0AAAAAAAOmxQAAAAAAARJBAAAAAAADQhUAAAAAAAK6sQAAAAACAMshAAAAAAIBIy0AAAAAAACyjQAAAAAAAgJRAAAAAAAD2rEAAAAAAALPQQAAAAAAAJKJAAAAAAIACwEAAAAAAABiiQAAAAAAAFK1AAAAAAAAwi0AAAAAAAICWQAAAAAAAuKhAAAAAAACgn0AAAAAAAC6kQAAAAACApcVAAAAAAABFykAAAAAAAJSRQAAAAAAAeJpAAAAAAAAsuEAAAAAAAJW6QAAAAACA/8FAAAAAAADYv0AAAAAAgBvIQAAAAAAATbdAAAAAAABVukAAAAAAALS1QAAAAAAAZcJAAAAAAAAInkAAAAAAAJ6kQAAAAADAl9xAAAAAAIATw0AAAAAAAByUQAAAAADAv91AAAAAAAD0xEAAAAAAwKTYQAAAAAAAwqFAAAAAAABweEAAAAAAAPiIQAAAAAAAHKZAAAAAAACcoUAAAAAAAAyqQAAAAAAAhbtAAAAAAABCsEAAAAAAAJyVQAAAAAAA4J9AAAAAAADggEAAAAAAADiVQAAAAAAAUI9AAAAAAACyzUAAAAAAQGvRQAAAAAAAt7VAAAAAAAB0lkAAAAAAALatQAAAAACAsdFAAAAAAAArtUAAAAAAANCVQAAAAAAA9LJAAAAAAACwlEAAAAAAALaoQAAAAAAAC7hAAAAAAAASpkAAAAAAAKa7QAAAAAAA9rpAAAAAAOBj40AAAAAAAFi9QAAAAAAAHsdAAAAAAACgf0AAAAAAAFSrQAAAAAAALJpAAAAAAMAy0EAAAAAAAIygQAAAAAAArrhAAAAAAADUlEAAAAAAAO21QAAAAACA18FAAAAAAACYkkAAAAAAAKyRQAAAAAAAlsFAAAAAAIDRwEAAAAAAAEScQAAAAAAAnKBAAAAAAADivUAAAAAAADKlQAAAAACAANJAAAAAAIAp3kAAAAAAAJymQAAAAAAAcq1AAAAAAABgkkAAAAAAAPSaQAAAAAAALJdAAAAAAAAomUAAAAAAAEnCQAAAAAAAHqRAAAAAAACwtEAAAAAAABC/QAAAAAAAKI5AAAAAAABfuEAAAAAAAJ2zQAAAAACAbc1AAAAAAIDc00AAAAAAANy9QAAAAAAAmKRAAAAAAABEmEAAAAAAgO7KQAAAAAAAFJRAAAAAAAAcqUAAAAAAAOCeQA==\",\"dtype\":\"float64\",\"order\":\"little\",\"shape\":[155]},\"y\":{\"__ndarray__\":\"nRGlvcEXtj9xPQrXo3DxP3E9CtejcN0/7nw/NV66yT+kcD0K16P4P1K4HoXrUQRAMzMzMzMz9z+amZmZmZkjQHsUrkfhehVAAAAAAAAAG0A9CtejcD0gQHsUrkfheiFAKVyPwvUorD9QjZduEoPoPwrXo3A9ChZAAAAAAAAAJkCTGARWDi3qP44G8BZIUKw/WDm0yHa+1z+R7Xw/NV7mP+xRuB6F6wtAAAAAAAAAFUCu2F92Tx6WP3ZxGw3gLZA/uECC4seYqz9UdCSX/5CuP5qZmZmZmShA+FPjpZvEwD8IrBxaZDufP6RwPQrXowBALbKd76fG4z+4HoXrUbjyP9nO91Pjpas/wcqhRbbzvT8ZBFYOLbLNP39qvHSTGNw/BoGVQ4tsxz9xPQrXo3D9P65H4XoUrvs/SOF6FK5HIkBKDAIrhxbpP4ts5/up8do/XrpJDAIr6z+cxCCwcmjZPw+cM6K0N7g/0m9fB84ZkT9oke18PzXuPxSuR+F6FBRAhetRuB6FHECyne+nxkvXP77BFyZTBbM/j8L1KFyP/j+amZmZmZkpQClcj8L1KMw/H4XrUbge+T/ByqFFtvPNP1YOLbKd79c/WmQ730+Nxz/DZKpgVFK3P1K4HoXrUfA/GlHaG3xhsj99PzVeuknUP6RwPQrXoxhApHA9CtejG0Atsp3vp8bTPx1aZDvfT80/XI/C9Shc/z/sUbgehevxPwAAAAAAABRA7FG4HoXrDUBxPQrXo3ALQM3MzMzMzAJAhetRuB6FDUAUrkfhehTyPzMzMzMzMyhA2c73U+Ol0z9CYOXQItvZP83MzMzMzE1AmpmZmZmZ+T9I4XoUrkfZP0a28/3UeNk/MzMzMzMzEEDNzMzMzMxCQHuDL0ymCrY/pb3BFyZTtT/8qfHSTWKgP/YoXI/C9fg/CKwcWmQ7vz83iUFg5dDaP4XrUbgehfs/cT0K16NwC0BmZmZmZmb+P9Ei2/l+atQ/SgwCK4cW0T8AAAAAAADAP3npJjEIrIw/hetRuB4FIEBSuB6F61EUQLx0kxgEVt4/3bWEfNCzmT+LbOf7qfHCP4XrUbgehRFAf/s6cM6Ikj8j2/l+arzUP166SQwCK+8/CKwcWmQ7vz89CtejcD3KP3E9CtejcPE/MQisHFpk2z9SuB6F61EfQK5H4XoUrvM/mpmZmZk5V0AAAAAAAAAOQD0K16NwvSFA4JwRpb3Bhz85tMh2vp/KPxfZzvdT48U/KVyPwvUo+D9QjZduEoPQP8/3U+Olm8Q/AAAAAAAAwD8pXI/C9SgAQHsUrkfheiJARIts5/upwT9N845TdCSnP6RwPQrXoxhAKVyPwvUoAEDhehSuR+HKP9V46SYxCMw/7FG4HoXr/T+Sy39Iv32dP3E9CtejcB9ArkfhehSuE0DhehSuR+HqPxSuR+F6FPo/1CtlGeJYtz9g5dAi2/nOPxZqTfOOU7Q/L90kBoGVwz/NzMzMzMwQQC2yne+nxuM/rBxaZDvf6z9I4XoUrkcjQJf/kH77OrA/H4XrUbgeHkBMN4lBYOXAP5qZmZmZmSZAAAAAAACAMEBcj8L1KFz7P3E9CtejcBhA2c73U+Ol6z/hehSuR+EXQCUGgZVDi9Q/ke18PzVe7j/NzMzMzMzwPw==\",\"dtype\":\"float64\",\"order\":\"little\",\"shape\":[155]}},\"selected\":{\"id\":\"1052\"},\"selection_policy\":{\"id\":\"1051\"}},\"id\":\"1004\",\"type\":\"ColumnDataSource\"},{\"attributes\":{},\"id\":\"3471\",\"type\":\"SaveTool\"},{\"attributes\":{\"index\":2,\"label\":{\"value\":\"Middle East & North Africa\"},\"renderers\":[{\"id\":\"3486\"}]},\"id\":\"3502\",\"type\":\"LegendItem\"},{\"attributes\":{\"source\":{\"id\":\"1004\"}},\"id\":\"3487\",\"type\":\"CDSView\"},{\"attributes\":{\"index\":7,\"label\":{\"value\":\"East Asia & Pacific\"},\"renderers\":[{\"id\":\"3486\"}]},\"id\":\"3500\",\"type\":\"LegendItem\"},{\"attributes\":{\"coordinates\":null,\"group\":null,\"items\":[{\"id\":\"3499\"},{\"id\":\"3500\"},{\"id\":\"3501\"},{\"id\":\"3502\"},{\"id\":\"3503\"},{\"id\":\"3504\"}],\"location\":\"bottom_right\"},\"id\":\"3498\",\"type\":\"Legend\"},{\"attributes\":{\"fill_alpha\":{\"value\":0.2},\"fill_color\":{\"field\":\"region\",\"transform\":{\"id\":\"1003\"}},\"hatch_alpha\":{\"value\":0.2},\"hatch_color\":{\"field\":\"region\",\"transform\":{\"id\":\"1003\"}},\"line_alpha\":{\"value\":0.2},\"line_color\":{\"field\":\"region\",\"transform\":{\"id\":\"1003\"}},\"size\":{\"value\":7},\"x\":{\"field\":\"x\"},\"y\":{\"field\":\"y\"}},\"id\":\"3485\",\"type\":\"Circle\"},{\"attributes\":{},\"id\":\"3473\",\"type\":\"HelpTool\"},{\"attributes\":{\"fill_alpha\":{\"value\":0.8},\"fill_color\":{\"field\":\"region\",\"transform\":{\"id\":\"1003\"}},\"hatch_color\":{\"field\":\"region\",\"transform\":{\"id\":\"1003\"}},\"line_color\":{\"field\":\"region\",\"transform\":{\"id\":\"1003\"}},\"size\":{\"value\":7},\"x\":{\"field\":\"x\"},\"y\":{\"field\":\"y\"}},\"id\":\"3483\",\"type\":\"Circle\"},{\"attributes\":{},\"id\":\"3493\",\"type\":\"BasicTickFormatter\"},{\"attributes\":{\"fill_alpha\":{\"value\":0.1},\"fill_color\":{\"field\":\"region\",\"transform\":{\"id\":\"1003\"}},\"hatch_alpha\":{\"value\":0.1},\"hatch_color\":{\"field\":\"region\",\"transform\":{\"id\":\"1003\"}},\"line_alpha\":{\"value\":0.1},\"line_color\":{\"field\":\"region\",\"transform\":{\"id\":\"1003\"}},\"size\":{\"value\":7},\"x\":{\"field\":\"x\"},\"y\":{\"field\":\"y\"}},\"id\":\"3484\",\"type\":\"Circle\"},{\"attributes\":{},\"id\":\"3491\",\"type\":\"AllLabels\"},{\"attributes\":{\"index\":4,\"label\":{\"value\":\"America\"},\"renderers\":[{\"id\":\"3486\"}]},\"id\":\"3499\",\"type\":\"LegendItem\"},{\"attributes\":{\"index\":3,\"label\":{\"value\":\"Sub-Saharan Africa\"},\"renderers\":[{\"id\":\"3486\"}]},\"id\":\"3504\",\"type\":\"LegendItem\"},{\"attributes\":{},\"id\":\"1051\",\"type\":\"UnionRenderers\"},{\"attributes\":{\"tools\":[{\"id\":\"3468\"},{\"id\":\"3469\"},{\"id\":\"3470\"},{\"id\":\"3471\"},{\"id\":\"3472\"},{\"id\":\"3473\"}]},\"id\":\"3475\",\"type\":\"Toolbar\"},{\"attributes\":{\"num_minor_ticks\":10},\"id\":\"3465\",\"type\":\"LogTicker\"},{\"attributes\":{\"factors\":[\"South Asia\",\"Europe & Central Asia\",\"Middle East & North Africa\",\"Sub-Saharan Africa\",\"America\",\"East Asia & Pacific\"],\"palette\":[\"#3288bd\",\"#99d594\",\"#e6f598\",\"#fee08b\",\"#fc8d59\",\"#d53e4f\"]},\"id\":\"1003\",\"type\":\"CategoricalColorMapper\"},{\"attributes\":{},\"id\":\"1052\",\"type\":\"Selection\"},{\"attributes\":{\"end\":25000,\"start\":-5000},\"id\":\"3452\",\"type\":\"Range1d\"}],\"root_ids\":[\"3449\"]},\"title\":\"Bokeh Application\",\"version\":\"2.4.3\"}};\n",
       "  const render_items = [{\"docid\":\"2973e302-a51c-4069-a3c3-876310feea39\",\"root_ids\":[\"3449\"],\"roots\":{\"3449\":\"b05c5d55-1129-4aed-a2b6-0755ed6a975e\"}}];\n",
       "  root.Bokeh.embed.embed_items_notebook(docs_json, render_items);\n",
       "  }\n",
       "  if (root.Bokeh !== undefined) {\n",
       "    embed_document(root);\n",
       "  } else {\n",
       "    let attempts = 0;\n",
       "    const timer = setInterval(function(root) {\n",
       "      if (root.Bokeh !== undefined) {\n",
       "        clearInterval(timer);\n",
       "        embed_document(root);\n",
       "      } else {\n",
       "        attempts++;\n",
       "        if (attempts > 100) {\n",
       "          clearInterval(timer);\n",
       "          console.log(\"Bokeh: ERROR: Unable to run BokehJS code because BokehJS library is missing\");\n",
       "        }\n",
       "      }\n",
       "    }, 10, root)\n",
       "  }\n",
       "})(window);"
      ],
      "application/vnd.bokehjs_exec.v0+json": ""
     },
     "metadata": {
      "application/vnd.bokehjs_exec.v0+json": {
       "id": "3449"
      }
     },
     "output_type": "display_data"
    }
   ],
   "source": [
    "show(plot)"
   ]
  },
  {
   "cell_type": "code",
   "execution_count": 70,
   "id": "19672c86",
   "metadata": {},
   "outputs": [
    {
     "data": {
      "text/html": [
       "\n",
       "  <div class=\"bk-root\" id=\"edef973f-1903-4cba-b4b5-7c55cc9621bf\" data-root-id=\"1932\"></div>\n"
      ]
     },
     "metadata": {},
     "output_type": "display_data"
    },
    {
     "data": {
      "application/javascript": [
       "(function(root) {\n",
       "  function embed_document(root) {\n",
       "  const docs_json = {\"df010146-de2e-4073-9b27-bb37f0d05aa3\":{\"defs\":[],\"roots\":{\"references\":[{\"attributes\":{\"below\":[{\"id\":\"1943\"}],\"center\":[{\"id\":\"1946\"},{\"id\":\"1950\"},{\"id\":\"1981\"}],\"left\":[{\"id\":\"1947\"}],\"renderers\":[{\"id\":\"1969\"},{\"id\":\"1987\"},{\"id\":\"2006\"}],\"title\":{\"id\":\"1933\"},\"toolbar\":{\"id\":\"1958\"},\"x_range\":{\"id\":\"1935\"},\"x_scale\":{\"id\":\"1939\"},\"y_range\":{\"id\":\"1937\"},\"y_scale\":{\"id\":\"1941\"}},\"id\":\"1932\",\"subtype\":\"Figure\",\"type\":\"Plot\"},{\"attributes\":{\"label\":{\"value\":\"Objects\"},\"renderers\":[{\"id\":\"2006\"}]},\"id\":\"2022\",\"type\":\"LegendItem\"},{\"attributes\":{\"axis_label\":\"x\",\"coordinates\":null,\"formatter\":{\"id\":\"1976\"},\"group\":null,\"major_label_policy\":{\"id\":\"1977\"},\"ticker\":{\"id\":\"1944\"}},\"id\":\"1943\",\"type\":\"LinearAxis\"},{\"attributes\":{\"axis\":{\"id\":\"1943\"},\"coordinates\":null,\"group\":null,\"ticker\":null},\"id\":\"1946\",\"type\":\"Grid\"},{\"attributes\":{\"coordinates\":null,\"group\":null,\"items\":[{\"id\":\"1982\"},{\"id\":\"2001\"},{\"id\":\"2022\"}]},\"id\":\"1981\",\"type\":\"Legend\"},{\"attributes\":{\"source\":{\"id\":\"1983\"}},\"id\":\"1988\",\"type\":\"CDSView\"},{\"attributes\":{\"line_alpha\":0.2,\"line_color\":\"#906c18\",\"line_width\":3,\"x\":{\"field\":\"x\"},\"y\":{\"field\":\"y\"}},\"id\":\"1986\",\"type\":\"Line\"},{\"attributes\":{},\"id\":\"1948\",\"type\":\"BasicTicker\"},{\"attributes\":{\"label\":{\"value\":\"Temp.\"},\"renderers\":[{\"id\":\"1969\"}]},\"id\":\"1982\",\"type\":\"LegendItem\"},{\"attributes\":{},\"id\":\"1979\",\"type\":\"Selection\"},{\"attributes\":{},\"id\":\"1935\",\"type\":\"DataRange1d\"},{\"attributes\":{},\"id\":\"2020\",\"type\":\"Selection\"},{\"attributes\":{\"line_color\":\"#004488\",\"line_width\":3,\"x\":{\"field\":\"x\"},\"y\":{\"field\":\"y\"}},\"id\":\"1966\",\"type\":\"Line\"},{\"attributes\":{},\"id\":\"1978\",\"type\":\"UnionRenderers\"},{\"attributes\":{\"tools\":[{\"id\":\"1951\"},{\"id\":\"1952\"},{\"id\":\"1953\"},{\"id\":\"1954\"},{\"id\":\"1955\"},{\"id\":\"1956\"}]},\"id\":\"1958\",\"type\":\"Toolbar\"},{\"attributes\":{\"data\":{\"x\":[1,2,3,4,5],\"y\":[4,5,5,7,2]},\"selected\":{\"id\":\"2020\"},\"selection_policy\":{\"id\":\"2019\"}},\"id\":\"2002\",\"type\":\"ColumnDataSource\"},{\"attributes\":{\"source\":{\"id\":\"2002\"}},\"id\":\"2007\",\"type\":\"CDSView\"},{\"attributes\":{\"fill_alpha\":{\"value\":0.2},\"fill_color\":{\"value\":\"#bb5566\"},\"hatch_alpha\":{\"value\":0.2},\"hatch_color\":{\"value\":\"#bb5566\"},\"line_alpha\":{\"value\":0.2},\"line_color\":{\"value\":\"#bb5566\"},\"size\":{\"value\":16},\"x\":{\"field\":\"x\"},\"y\":{\"field\":\"y\"}},\"id\":\"2005\",\"type\":\"Scatter\"},{\"attributes\":{\"coordinates\":null,\"group\":null,\"text\":\"Multiple glyphs example\"},\"id\":\"1933\",\"type\":\"Title\"},{\"attributes\":{\"axis_label\":\"y\",\"coordinates\":null,\"formatter\":{\"id\":\"1973\"},\"group\":null,\"major_label_policy\":{\"id\":\"1974\"},\"ticker\":{\"id\":\"1948\"}},\"id\":\"1947\",\"type\":\"LinearAxis\"},{\"attributes\":{},\"id\":\"1939\",\"type\":\"LinearScale\"},{\"attributes\":{\"overlay\":{\"id\":\"1957\"}},\"id\":\"1953\",\"type\":\"BoxZoomTool\"},{\"attributes\":{\"coordinates\":null,\"data_source\":{\"id\":\"1983\"},\"glyph\":{\"id\":\"1984\"},\"group\":null,\"hover_glyph\":null,\"muted_glyph\":{\"id\":\"1986\"},\"nonselection_glyph\":{\"id\":\"1985\"},\"view\":{\"id\":\"1988\"}},\"id\":\"1987\",\"type\":\"GlyphRenderer\"},{\"attributes\":{\"source\":{\"id\":\"1965\"}},\"id\":\"1970\",\"type\":\"CDSView\"},{\"attributes\":{},\"id\":\"1951\",\"type\":\"PanTool\"},{\"attributes\":{},\"id\":\"1954\",\"type\":\"SaveTool\"},{\"attributes\":{},\"id\":\"1998\",\"type\":\"UnionRenderers\"},{\"attributes\":{\"coordinates\":null,\"data_source\":{\"id\":\"1965\"},\"glyph\":{\"id\":\"1966\"},\"group\":null,\"hover_glyph\":null,\"muted_glyph\":{\"id\":\"1968\"},\"nonselection_glyph\":{\"id\":\"1967\"},\"view\":{\"id\":\"1970\"}},\"id\":\"1969\",\"type\":\"GlyphRenderer\"},{\"attributes\":{},\"id\":\"2019\",\"type\":\"UnionRenderers\"},{\"attributes\":{\"line_alpha\":0.1,\"line_color\":\"#906c18\",\"line_width\":3,\"x\":{\"field\":\"x\"},\"y\":{\"field\":\"y\"}},\"id\":\"1985\",\"type\":\"Line\"},{\"attributes\":{},\"id\":\"1956\",\"type\":\"HelpTool\"},{\"attributes\":{},\"id\":\"1974\",\"type\":\"AllLabels\"},{\"attributes\":{},\"id\":\"1952\",\"type\":\"WheelZoomTool\"},{\"attributes\":{\"line_alpha\":0.2,\"line_color\":\"#004488\",\"line_width\":3,\"x\":{\"field\":\"x\"},\"y\":{\"field\":\"y\"}},\"id\":\"1968\",\"type\":\"Line\"},{\"attributes\":{\"axis\":{\"id\":\"1947\"},\"coordinates\":null,\"dimension\":1,\"group\":null,\"ticker\":null},\"id\":\"1950\",\"type\":\"Grid\"},{\"attributes\":{\"bottom_units\":\"screen\",\"coordinates\":null,\"fill_alpha\":0.5,\"fill_color\":\"lightgrey\",\"group\":null,\"left_units\":\"screen\",\"level\":\"overlay\",\"line_alpha\":1.0,\"line_color\":\"black\",\"line_dash\":[4,4],\"line_width\":2,\"right_units\":\"screen\",\"syncable\":false,\"top_units\":\"screen\"},\"id\":\"1957\",\"type\":\"BoxAnnotation\"},{\"attributes\":{\"coordinates\":null,\"data_source\":{\"id\":\"2002\"},\"glyph\":{\"id\":\"2003\"},\"group\":null,\"hover_glyph\":null,\"muted_glyph\":{\"id\":\"2005\"},\"nonselection_glyph\":{\"id\":\"2004\"},\"view\":{\"id\":\"2007\"}},\"id\":\"2006\",\"type\":\"GlyphRenderer\"},{\"attributes\":{\"line_alpha\":0.1,\"line_color\":\"#004488\",\"line_width\":3,\"x\":{\"field\":\"x\"},\"y\":{\"field\":\"y\"}},\"id\":\"1967\",\"type\":\"Line\"},{\"attributes\":{},\"id\":\"1999\",\"type\":\"Selection\"},{\"attributes\":{},\"id\":\"1937\",\"type\":\"DataRange1d\"},{\"attributes\":{},\"id\":\"1973\",\"type\":\"BasicTickFormatter\"},{\"attributes\":{},\"id\":\"1955\",\"type\":\"ResetTool\"},{\"attributes\":{},\"id\":\"1976\",\"type\":\"BasicTickFormatter\"},{\"attributes\":{\"data\":{\"x\":[1,2,3,4,5],\"y\":[2,3,4,5,6]},\"selected\":{\"id\":\"1999\"},\"selection_policy\":{\"id\":\"1998\"}},\"id\":\"1983\",\"type\":\"ColumnDataSource\"},{\"attributes\":{\"fill_color\":{\"value\":\"#bb5566\"},\"hatch_color\":{\"value\":\"#bb5566\"},\"line_color\":{\"value\":\"#bb5566\"},\"size\":{\"value\":16},\"x\":{\"field\":\"x\"},\"y\":{\"field\":\"y\"}},\"id\":\"2003\",\"type\":\"Scatter\"},{\"attributes\":{\"fill_alpha\":{\"value\":0.1},\"fill_color\":{\"value\":\"#bb5566\"},\"hatch_alpha\":{\"value\":0.1},\"hatch_color\":{\"value\":\"#bb5566\"},\"line_alpha\":{\"value\":0.1},\"line_color\":{\"value\":\"#bb5566\"},\"size\":{\"value\":16},\"x\":{\"field\":\"x\"},\"y\":{\"field\":\"y\"}},\"id\":\"2004\",\"type\":\"Scatter\"},{\"attributes\":{},\"id\":\"1944\",\"type\":\"BasicTicker\"},{\"attributes\":{},\"id\":\"1941\",\"type\":\"LinearScale\"},{\"attributes\":{\"line_color\":\"#906c18\",\"line_width\":3,\"x\":{\"field\":\"x\"},\"y\":{\"field\":\"y\"}},\"id\":\"1984\",\"type\":\"Line\"},{\"attributes\":{},\"id\":\"1977\",\"type\":\"AllLabels\"},{\"attributes\":{\"data\":{\"x\":[1,2,3,4,5],\"y\":[6,7,2,4,5]},\"selected\":{\"id\":\"1979\"},\"selection_policy\":{\"id\":\"1978\"}},\"id\":\"1965\",\"type\":\"ColumnDataSource\"},{\"attributes\":{\"label\":{\"value\":\"Rate\"},\"renderers\":[{\"id\":\"1987\"}]},\"id\":\"2001\",\"type\":\"LegendItem\"}],\"root_ids\":[\"1932\"]},\"title\":\"Bokeh Application\",\"version\":\"2.4.3\"}};\n",
       "  const render_items = [{\"docid\":\"df010146-de2e-4073-9b27-bb37f0d05aa3\",\"root_ids\":[\"1932\"],\"roots\":{\"1932\":\"edef973f-1903-4cba-b4b5-7c55cc9621bf\"}}];\n",
       "  root.Bokeh.embed.embed_items_notebook(docs_json, render_items);\n",
       "  }\n",
       "  if (root.Bokeh !== undefined) {\n",
       "    embed_document(root);\n",
       "  } else {\n",
       "    let attempts = 0;\n",
       "    const timer = setInterval(function(root) {\n",
       "      if (root.Bokeh !== undefined) {\n",
       "        clearInterval(timer);\n",
       "        embed_document(root);\n",
       "      } else {\n",
       "        attempts++;\n",
       "        if (attempts > 100) {\n",
       "          clearInterval(timer);\n",
       "          console.log(\"Bokeh: ERROR: Unable to run BokehJS code because BokehJS library is missing\");\n",
       "        }\n",
       "      }\n",
       "    }, 10, root)\n",
       "  }\n",
       "})(window);"
      ],
      "application/vnd.bokehjs_exec.v0+json": ""
     },
     "metadata": {
      "application/vnd.bokehjs_exec.v0+json": {
       "id": "1932"
      }
     },
     "output_type": "display_data"
    }
   ],
   "source": [
    "# Toy example to make sure I'm doing this right\n",
    "\n",
    "# prepare some data\n",
    "x = [1, 2, 3, 4, 5]\n",
    "y1 = [6, 7, 2, 4, 5]\n",
    "y2 = [2, 3, 4, 5, 6]\n",
    "y3 = [4, 5, 5, 7, 2]\n",
    "\n",
    "# create a new plot with a title and axis labels\n",
    "p = figure(title=\"Multiple glyphs example\", x_axis_label=\"x\", y_axis_label=\"y\")\n",
    "\n",
    "# add multiple renderers\n",
    "p.line(x, y1, legend_label=\"Temp.\", color=\"#004488\", line_width=3)\n",
    "p.line(x, y2, legend_label=\"Rate\", color=\"#906c18\", line_width=3)\n",
    "p.scatter(x, y3, legend_label=\"Objects\", color=\"#bb5566\", size=16)\n",
    "\n",
    "# show the results\n",
    "show(p)"
   ]
  },
  {
   "cell_type": "code",
   "execution_count": 101,
   "id": "d02b7c39",
   "metadata": {},
   "outputs": [],
   "source": [
    "# Adding a slider\n",
    "\n",
    "slider = Slider(start=min(data.year), end=max(data.year), step=1, value=min(data.year), title=\"Year\")"
   ]
  },
  {
   "cell_type": "code",
   "execution_count": 102,
   "id": "0b66ae17",
   "metadata": {},
   "outputs": [],
   "source": [
    "def update_plot(attr, old, new):\n",
    "    yr = slider.value\n",
    "    new_data = {\n",
    "        'x': data.gdp[data['year'] == yr],\n",
    "        'y': data.co2[data['year'] == yr],\n",
    "        'country': data.country[data['year'] == yr],\n",
    "        'region': data.region[data['year'] == yr],\n",
    "    }\n",
    "    source.data = new_data\n",
    "    plot.title.text = 'CO2 Emissions vs GDP in %d' % yr"
   ]
  },
  {
   "cell_type": "code",
   "execution_count": 103,
   "id": "d441f4fc",
   "metadata": {},
   "outputs": [],
   "source": [
    "slider.on_change('value', update_plot)"
   ]
  },
  {
   "cell_type": "code",
   "execution_count": 104,
   "id": "c673bbc8",
   "metadata": {},
   "outputs": [
    {
     "name": "stderr",
     "output_type": "stream",
     "text": [
      "BokehDeprecationWarning: 'WidgetBox' is deprecated and will be removed in Bokeh 3.0, use 'bokeh.models.Column' instead\n"
     ]
    }
   ],
   "source": [
    "layout = row(widgetbox(slider), plot)"
   ]
  },
  {
   "cell_type": "code",
   "execution_count": 105,
   "id": "678add7d",
   "metadata": {},
   "outputs": [],
   "source": [
    "curdoc().add_root(layout)"
   ]
  },
  {
   "cell_type": "code",
   "execution_count": 106,
   "id": "99d94176",
   "metadata": {},
   "outputs": [],
   "source": [
    "# Add a hover tool\n",
    "\n",
    "hover = HoverTool(tooltips=[('Country', '@country'), ('GDP', '@x'), ('CO2 Emission', '@y')])"
   ]
  },
  {
   "cell_type": "code",
   "execution_count": 107,
   "id": "9ced675e",
   "metadata": {},
   "outputs": [],
   "source": [
    "plot.add_tools(hover)"
   ]
  },
  {
   "cell_type": "code",
   "execution_count": null,
   "id": "21b99ee5",
   "metadata": {},
   "outputs": [],
   "source": []
  }
 ],
 "metadata": {
  "kernelspec": {
   "display_name": "vizbook",
   "language": "python",
   "name": "vizbook"
  },
  "language_info": {
   "codemirror_mode": {
    "name": "ipython",
    "version": 3
   },
   "file_extension": ".py",
   "mimetype": "text/x-python",
   "name": "python",
   "nbconvert_exporter": "python",
   "pygments_lexer": "ipython3",
   "version": "3.7.4"
  }
 },
 "nbformat": 4,
 "nbformat_minor": 5
}
